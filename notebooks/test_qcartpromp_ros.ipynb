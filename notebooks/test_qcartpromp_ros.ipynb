{
 "metadata": {
  "name": ""
 },
 "nbformat": 3,
 "nbformat_minor": 0,
 "worksheets": [
  {
   "cells": [
    {
     "cell_type": "code",
     "collapsed": false,
     "input": [
      "import rospy\n",
      "import numpy\n",
      "import os\n",
      "import json\n",
      "from numpy.linalg import norm\n",
      "from promp.ros import QCartProMP\n",
      "from baxter_commander import ArmCommander\n",
      "from matplotlib import pyplot\n",
      "from baxter_commander.persistence import *\n",
      "from promp.ros import FK\n",
      "from promp.ros import ROSBridge"
     ],
     "language": "python",
     "metadata": {},
     "outputs": []
    },
    {
     "cell_type": "code",
     "collapsed": false,
     "input": [
      "rospy.init_node('promp_notebook')"
     ],
     "language": "python",
     "metadata": {},
     "outputs": []
    },
    {
     "cell_type": "code",
     "collapsed": false,
     "input": [
      "right = ArmCommander('right')"
     ],
     "language": "python",
     "metadata": {},
     "outputs": []
    },
    {
     "cell_type": "markdown",
     "metadata": {},
     "source": [
      "# Init ProMP"
     ]
    },
    {
     "cell_type": "code",
     "collapsed": false,
     "input": [
      "mp = QCartProMP(with_orientation=False)"
     ],
     "language": "python",
     "metadata": {},
     "outputs": []
    },
    {
     "cell_type": "markdown",
     "metadata": {},
     "source": [
      "#Recording"
     ]
    },
    {
     "cell_type": "code",
     "collapsed": false,
     "input": [
      "initial = right.get_current_state()"
     ],
     "language": "python",
     "metadata": {},
     "outputs": []
    },
    {
     "cell_type": "code",
     "collapsed": false,
     "input": [
      "with open('initial.json', 'w') as f:\n",
      "    json.dump(statetodict(initial), f)"
     ],
     "language": "python",
     "metadata": {},
     "outputs": []
    },
    {
     "cell_type": "code",
     "collapsed": false,
     "input": [
      "mp.num_demos"
     ],
     "language": "python",
     "metadata": {},
     "outputs": []
    },
    {
     "cell_type": "code",
     "collapsed": false,
     "input": [
      "right.move_to_controlled(initial)"
     ],
     "language": "python",
     "metadata": {},
     "outputs": []
    },
    {
     "cell_type": "code",
     "collapsed": false,
     "input": [
      "rospy.sleep(5)\n",
      "os.system('beep')\n",
      "right.recorder.start()"
     ],
     "language": "python",
     "metadata": {},
     "outputs": []
    },
    {
     "cell_type": "code",
     "collapsed": false,
     "input": [
      "joints, eef = right.recorder.stop()"
     ],
     "language": "python",
     "metadata": {},
     "outputs": []
    },
    {
     "cell_type": "code",
     "collapsed": false,
     "input": [
      "mp.add_demonstration(joints, eef)"
     ],
     "language": "python",
     "metadata": {},
     "outputs": []
    },
    {
     "cell_type": "code",
     "collapsed": false,
     "input": [
      "with open('demo_{}.json'.format(mp.num_demos), 'w') as f:\n",
      "    json.dump(trajtodict(joints), f)\n",
      "with open('path_{}.json'.format(mp.num_demos), 'w') as f:\n",
      "    json.dump(pathtodict(eef), f)"
     ],
     "language": "python",
     "metadata": {},
     "outputs": []
    },
    {
     "cell_type": "code",
     "collapsed": false,
     "input": [
      "goal = right.endpoint_pose()\n",
      "goal_joint = right.get_current_state()\n",
      "with open('goal.json', 'w') as f:\n",
      "    json.dump(goal, f)\n",
      "with open('goal_joints.json', 'w') as f:\n",
      "    json.dump(statetodict(goal_joint), f)"
     ],
     "language": "python",
     "metadata": {},
     "outputs": []
    },
    {
     "cell_type": "code",
     "collapsed": false,
     "input": [
      "mp.num_demos"
     ],
     "language": "python",
     "metadata": {},
     "outputs": []
    },
    {
     "cell_type": "markdown",
     "metadata": {},
     "source": [
      "# Reading"
     ]
    },
    {
     "cell_type": "code",
     "collapsed": false,
     "input": [
      "for demo in range(1, 15):\n",
      "    with open('demo_{}.json'.format(demo)) as fd:\n",
      "        with open('path_{}.json'.format(demo)) as fp:\n",
      "            traj = dicttotraj(json.load(fd))\n",
      "            path = dicttopath(json.load(fp))\n",
      "            mp.add_demonstration(traj, path)\n",
      "            #goal = fk.get(ROSBridge.trajectory_last_point_to_state(traj))"
     ],
     "language": "python",
     "metadata": {},
     "outputs": []
    },
    {
     "cell_type": "code",
     "collapsed": false,
     "input": [
      "with open('initial.json') as f:\n",
      "    initial = dicttostate(json.load(f))"
     ],
     "language": "python",
     "metadata": {},
     "outputs": []
    },
    {
     "cell_type": "code",
     "collapsed": false,
     "input": [
      "with open('goal.json') as f:\n",
      "    goal = json.load(f)\n",
      "with open('goal_joints.json') as f:\n",
      "    goal_joint = dicttostate(json.load(f))"
     ],
     "language": "python",
     "metadata": {},
     "outputs": []
    },
    {
     "cell_type": "markdown",
     "metadata": {},
     "source": [
      "# Using the ProMP"
     ]
    },
    {
     "cell_type": "code",
     "collapsed": false,
     "input": [
      "mp.promp.get_mean_context()"
     ],
     "language": "python",
     "metadata": {},
     "outputs": []
    },
    {
     "cell_type": "code",
     "collapsed": false,
     "input": [
      "mp.promp.get_std_context()"
     ],
     "language": "python",
     "metadata": {},
     "outputs": []
    },
    {
     "cell_type": "code",
     "collapsed": false,
     "input": [
      "goal = right.endpoint_pose()"
     ],
     "language": "python",
     "metadata": {},
     "outputs": []
    },
    {
     "cell_type": "code",
     "collapsed": false,
     "input": [
      "trajectory = mp.generate_trajectory(goal, goal_joint_state_plot=goal_joint)"
     ],
     "language": "python",
     "metadata": {},
     "outputs": []
    },
    {
     "cell_type": "code",
     "collapsed": false,
     "input": [
      "right.display(trajectory)"
     ],
     "language": "python",
     "metadata": {},
     "outputs": []
    },
    {
     "cell_type": "code",
     "collapsed": false,
     "input": [
      "right.execute(trajectory)"
     ],
     "language": "python",
     "metadata": {},
     "outputs": []
    },
    {
     "cell_type": "code",
     "collapsed": false,
     "input": [
      "mp.plot_demos()"
     ],
     "language": "python",
     "metadata": {},
     "outputs": []
    },
    {
     "cell_type": "code",
     "collapsed": false,
     "input": [
      "goal = fk.get(ROSBridge.trajectory_last_point_to_state(trajectory))"
     ],
     "language": "python",
     "metadata": {},
     "outputs": []
    },
    {
     "cell_type": "code",
     "collapsed": false,
     "input": [
      "fk = FK('right')\n",
      "reached_goal = fk.get(ROSBridge.trajectory_last_point_to_state(trajectory))\n",
      "distance = norm(reached_goal[0] - goal[0])\n",
      "print(\"Distance = {}m from goal\".format(distance))"
     ],
     "language": "python",
     "metadata": {},
     "outputs": []
    }
   ],
   "metadata": {}
  }
 ]
}