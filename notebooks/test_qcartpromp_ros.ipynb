{
 "metadata": {
  "name": ""
 },
 "nbformat": 3,
 "nbformat_minor": 0,
 "worksheets": [
  {
   "cells": [
    {
     "cell_type": "code",
     "collapsed": false,
     "input": [
      "import rospy\n",
      "import numpy\n",
      "import os\n",
      "import json\n",
      "from numpy.linalg import norm\n",
      "from promp.ros import QCartProMP\n",
      "from baxter_commander import ArmCommander\n",
      "from matplotlib import pyplot\n",
      "from baxter_commander.persistence import *\n",
      "from promp.ros import FK\n",
      "from promp.ros import ROSBridge"
     ],
     "language": "python",
     "metadata": {},
     "outputs": [],
     "prompt_number": 1
    },
    {
     "cell_type": "code",
     "collapsed": false,
     "input": [
      "rospy.init_node('promp_notebook')"
     ],
     "language": "python",
     "metadata": {},
     "outputs": [],
     "prompt_number": 2
    },
    {
     "cell_type": "code",
     "collapsed": false,
     "input": [
      "right = ArmCommander('right')"
     ],
     "language": "python",
     "metadata": {},
     "outputs": [
      {
       "output_type": "stream",
       "stream": "stderr",
       "text": [
        "Unknown tag: materialUnknown tag: materialScalar element defined multiple times: collisionScalar element defined multiple times: collision"
       ]
      }
     ],
     "prompt_number": 3
    },
    {
     "cell_type": "markdown",
     "metadata": {},
     "source": [
      "# Init ProMP"
     ]
    },
    {
     "cell_type": "code",
     "collapsed": false,
     "input": [
      "mp = QCartProMP(with_orientation=False)"
     ],
     "language": "python",
     "metadata": {},
     "outputs": [],
     "prompt_number": 4
    },
    {
     "cell_type": "markdown",
     "metadata": {},
     "source": [
      "#Recording"
     ]
    },
    {
     "cell_type": "code",
     "collapsed": false,
     "input": [
      "initial = right.get_current_state()"
     ],
     "language": "python",
     "metadata": {},
     "outputs": [],
     "prompt_number": 5
    },
    {
     "cell_type": "code",
     "collapsed": false,
     "input": [
      "with open('initial.json', 'w') as f:\n",
      "    json.dump(statetodict(initial), f)"
     ],
     "language": "python",
     "metadata": {},
     "outputs": [],
     "prompt_number": 6
    },
    {
     "cell_type": "code",
     "collapsed": false,
     "input": [
      "mp.num_demos"
     ],
     "language": "python",
     "metadata": {},
     "outputs": [
      {
       "metadata": {},
       "output_type": "pyout",
       "prompt_number": 7,
       "text": [
        "0"
       ]
      }
     ],
     "prompt_number": 7
    },
    {
     "cell_type": "code",
     "collapsed": false,
     "input": [
      "right.move_to_controlled(initial)"
     ],
     "language": "python",
     "metadata": {},
     "outputs": [
      {
       "ename": "NameError",
       "evalue": "name 'right' is not defined",
       "output_type": "pyerr",
       "traceback": [
        "\u001b[0;31m---------------------------------------------------------------------------\u001b[0m\n\u001b[0;31mNameError\u001b[0m                                 Traceback (most recent call last)",
        "\u001b[0;32m<ipython-input-1-8e8bd1983d6f>\u001b[0m in \u001b[0;36m<module>\u001b[0;34m()\u001b[0m\n\u001b[0;32m----> 1\u001b[0;31m \u001b[0mright\u001b[0m\u001b[0;34m.\u001b[0m\u001b[0mmove_to_controlled\u001b[0m\u001b[0;34m(\u001b[0m\u001b[0minitial\u001b[0m\u001b[0;34m)\u001b[0m\u001b[0;34m\u001b[0m\u001b[0m\n\u001b[0m",
        "\u001b[0;31mNameError\u001b[0m: name 'right' is not defined"
       ]
      }
     ],
     "prompt_number": 1
    },
    {
     "cell_type": "code",
     "collapsed": false,
     "input": [
      "rospy.sleep(5)\n",
      "os.system('beep')\n",
      "right.recorder.start()"
     ],
     "language": "python",
     "metadata": {},
     "outputs": []
    },
    {
     "cell_type": "code",
     "collapsed": false,
     "input": [
      "joints, eef = right.recorder.stop()"
     ],
     "language": "python",
     "metadata": {},
     "outputs": [],
     "prompt_number": 66
    },
    {
     "cell_type": "code",
     "collapsed": false,
     "input": [
      "mp.add_demonstration(joints, eef)"
     ],
     "language": "python",
     "metadata": {},
     "outputs": [],
     "prompt_number": 67
    },
    {
     "cell_type": "code",
     "collapsed": false,
     "input": [
      "with open('demo_{}.json'.format(mp.num_demos), 'w') as f:\n",
      "    json.dump(trajtodict(joints), f)\n",
      "with open('path_{}.json'.format(mp.num_demos), 'w') as f:\n",
      "    json.dump(pathtodict(eef), f)"
     ],
     "language": "python",
     "metadata": {},
     "outputs": [],
     "prompt_number": 68
    },
    {
     "cell_type": "code",
     "collapsed": false,
     "input": [
      "goal = right.endpoint_pose()\n",
      "goal_joint = right.get_current_state()\n",
      "with open('goal.json', 'w') as f:\n",
      "    json.dump(goal, f)\n",
      "with open('goal_joints.json', 'w') as f:\n",
      "    json.dump(statetodict(goal_joint), f)"
     ],
     "language": "python",
     "metadata": {},
     "outputs": [],
     "prompt_number": 8
    },
    {
     "cell_type": "code",
     "collapsed": false,
     "input": [
      "mp.num_demos"
     ],
     "language": "python",
     "metadata": {},
     "outputs": [
      {
       "metadata": {},
       "output_type": "pyout",
       "prompt_number": 63,
       "text": [
        "11"
       ]
      }
     ],
     "prompt_number": 63
    },
    {
     "cell_type": "markdown",
     "metadata": {},
     "source": [
      "# Reading"
     ]
    },
    {
     "cell_type": "code",
     "collapsed": false,
     "input": [
      "for demo in range(1, 13):\n",
      "    with open('demo_{}.json'.format(demo)) as fd:\n",
      "        with open('path_{}.json'.format(demo)) as fp:\n",
      "            traj = dicttotraj(json.load(fd))\n",
      "            path = dicttopath(json.load(fp))\n",
      "            mp.add_demonstration(traj, path)\n",
      "            #goal = fk.get(ROSBridge.trajectory_last_point_to_state(traj))"
     ],
     "language": "python",
     "metadata": {},
     "outputs": [],
     "prompt_number": 5
    },
    {
     "cell_type": "code",
     "collapsed": false,
     "input": [
      "with open('initial.json') as f:\n",
      "    initial = dicttostate(json.load(f))"
     ],
     "language": "python",
     "metadata": {},
     "outputs": [],
     "prompt_number": 6
    },
    {
     "cell_type": "code",
     "collapsed": false,
     "input": [
      "with open('goal.json') as f:\n",
      "    goal = json.load(f)\n",
      "with open('goal_joints.json') as f:\n",
      "    goal_joint = dicttostate(json.load(f))"
     ],
     "language": "python",
     "metadata": {},
     "outputs": [],
     "prompt_number": 7
    },
    {
     "cell_type": "markdown",
     "metadata": {},
     "source": [
      "# Using the ProMP"
     ]
    },
    {
     "cell_type": "code",
     "collapsed": false,
     "input": [
      "from promp.ros import ROSBridge"
     ],
     "language": "python",
     "metadata": {},
     "outputs": [],
     "prompt_number": 9
    },
    {
     "cell_type": "code",
     "collapsed": false,
     "input": [
      "mp.promp.get_mean_context()"
     ],
     "language": "python",
     "metadata": {},
     "outputs": []
    },
    {
     "cell_type": "code",
     "collapsed": false,
     "input": [
      "mp.promp.get_std_context()"
     ],
     "language": "python",
     "metadata": {},
     "outputs": []
    },
    {
     "cell_type": "code",
     "collapsed": false,
     "input": [
      "goal = right.endpoint_pose()"
     ],
     "language": "python",
     "metadata": {},
     "outputs": [],
     "prompt_number": 8
    },
    {
     "cell_type": "code",
     "collapsed": false,
     "input": [
      "trajectory = mp.generate_trajectory(goal, path_plot='/tmp/plots', goal_joint_state_plot=goal_joint)"
     ],
     "language": "python",
     "metadata": {},
     "outputs": [],
     "prompt_number": 8
    },
    {
     "cell_type": "code",
     "collapsed": false,
     "input": [
      "right.display(trajectory)"
     ],
     "language": "python",
     "metadata": {},
     "outputs": [],
     "prompt_number": 139
    },
    {
     "cell_type": "code",
     "collapsed": false,
     "input": [
      "right.execute(trajectory)"
     ],
     "language": "python",
     "metadata": {},
     "outputs": [
      {
       "metadata": {},
       "output_type": "pyout",
       "prompt_number": 111,
       "text": [
        "True"
       ]
      }
     ],
     "prompt_number": 111
    },
    {
     "cell_type": "code",
     "collapsed": false,
     "input": [
      "mp.plot_demos('/tmp/plots')"
     ],
     "language": "python",
     "metadata": {},
     "outputs": [],
     "prompt_number": 7
    },
    {
     "cell_type": "code",
     "collapsed": false,
     "input": [
      "goal = fk.get(ROSBridge.trajectory_last_point_to_state(trajectory))"
     ],
     "language": "python",
     "metadata": {},
     "outputs": []
    },
    {
     "cell_type": "code",
     "collapsed": false,
     "input": [
      "fk = FK('right')\n",
      "reached_goal = fk.get(ROSBridge.trajectory_last_point_to_state(trajectory))\n",
      "distance = norm(reached_goal[0] - goal[0])\n",
      "print(\"Distance = {}m from goal\".format(distance))"
     ],
     "language": "python",
     "metadata": {},
     "outputs": [
      {
       "output_type": "stream",
       "stream": "stdout",
       "text": [
        "Distance = 0.000597012045138m from goal\n"
       ]
      },
      {
       "output_type": "stream",
       "stream": "stderr",
       "text": [
        "Unknown tag: materialUnknown tag: materialScalar element defined multiple times: collisionScalar element defined multiple times: collision"
       ]
      }
     ],
     "prompt_number": 140
    },
    {
     "cell_type": "code",
     "collapsed": false,
     "input": [
      "Distance = 0.0805915927965m from goal"
     ],
     "language": "python",
     "metadata": {},
     "outputs": []
    }
   ],
   "metadata": {}
  }
 ]
}